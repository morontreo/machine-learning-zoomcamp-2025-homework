{
 "cells": [
  {
   "cell_type": "code",
   "execution_count": 1445,
   "id": "59dd3887-f2c3-4813-9db4-2bc9015e5f25",
   "metadata": {},
   "outputs": [],
   "source": [
    "import pandas as pd\n",
    "import numpy as np"
   ]
  },
  {
   "cell_type": "code",
   "execution_count": 1446,
   "id": "fa771db1-8fac-45cb-8b31-b24468cf08fc",
   "metadata": {},
   "outputs": [],
   "source": [
    "data = 'https://raw.githubusercontent.com/alexeygrigorev/datasets/master/car_fuel_efficiency.csv'"
   ]
  },
  {
   "cell_type": "code",
   "execution_count": 1447,
   "id": "c03db45b-d3cb-4c00-95ad-16076605b203",
   "metadata": {},
   "outputs": [
    {
     "name": "stdout",
     "output_type": "stream",
     "text": [
      "--2025-10-06 03:14:28--  https://raw.githubusercontent.com/alexeygrigorev/datasets/master/car_fuel_efficiency.csv\n",
      "Resolving raw.githubusercontent.com (raw.githubusercontent.com)... 185.199.108.133, 185.199.110.133, 185.199.109.133, ...\n",
      "Connecting to raw.githubusercontent.com (raw.githubusercontent.com)|185.199.108.133|:443... connected.\n",
      "HTTP request sent, awaiting response... 200 OK\n",
      "Length: 874188 (854K) [text/plain]\n",
      "Saving to: ‘car_fuel_efficiency.csv.42’\n",
      "\n",
      "car_fuel_efficiency 100%[===================>] 853.70K  --.-KB/s    in 0.006s  \n",
      "\n",
      "2025-10-06 03:14:28 (131 MB/s) - ‘car_fuel_efficiency.csv.42’ saved [874188/874188]\n",
      "\n"
     ]
    }
   ],
   "source": [
    "!wget $data"
   ]
  },
  {
   "cell_type": "code",
   "execution_count": 1448,
   "id": "0d49a956-c230-46cf-8201-c4e298c3e507",
   "metadata": {},
   "outputs": [],
   "source": [
    "# Reading data\n",
    "df = pd.read_csv('car_fuel_efficiency.csv')"
   ]
  },
  {
   "cell_type": "code",
   "execution_count": 1449,
   "id": "38fe6e24-bc9c-4cb6-8733-589fe29058a1",
   "metadata": {},
   "outputs": [
    {
     "data": {
      "text/html": [
       "<div>\n",
       "<style scoped>\n",
       "    .dataframe tbody tr th:only-of-type {\n",
       "        vertical-align: middle;\n",
       "    }\n",
       "\n",
       "    .dataframe tbody tr th {\n",
       "        vertical-align: top;\n",
       "    }\n",
       "\n",
       "    .dataframe thead th {\n",
       "        text-align: right;\n",
       "    }\n",
       "</style>\n",
       "<table border=\"1\" class=\"dataframe\">\n",
       "  <thead>\n",
       "    <tr style=\"text-align: right;\">\n",
       "      <th></th>\n",
       "      <th>engine_displacement</th>\n",
       "      <th>num_cylinders</th>\n",
       "      <th>horsepower</th>\n",
       "      <th>vehicle_weight</th>\n",
       "      <th>acceleration</th>\n",
       "      <th>model_year</th>\n",
       "      <th>origin</th>\n",
       "      <th>fuel_type</th>\n",
       "      <th>drivetrain</th>\n",
       "      <th>num_doors</th>\n",
       "      <th>fuel_efficiency_mpg</th>\n",
       "    </tr>\n",
       "  </thead>\n",
       "  <tbody>\n",
       "    <tr>\n",
       "      <th>0</th>\n",
       "      <td>170</td>\n",
       "      <td>3.0</td>\n",
       "      <td>159.0</td>\n",
       "      <td>3413.433759</td>\n",
       "      <td>17.7</td>\n",
       "      <td>2003</td>\n",
       "      <td>Europe</td>\n",
       "      <td>Gasoline</td>\n",
       "      <td>All-wheel drive</td>\n",
       "      <td>0.0</td>\n",
       "      <td>13.231729</td>\n",
       "    </tr>\n",
       "    <tr>\n",
       "      <th>1</th>\n",
       "      <td>130</td>\n",
       "      <td>5.0</td>\n",
       "      <td>97.0</td>\n",
       "      <td>3149.664934</td>\n",
       "      <td>17.8</td>\n",
       "      <td>2007</td>\n",
       "      <td>USA</td>\n",
       "      <td>Gasoline</td>\n",
       "      <td>Front-wheel drive</td>\n",
       "      <td>0.0</td>\n",
       "      <td>13.688217</td>\n",
       "    </tr>\n",
       "    <tr>\n",
       "      <th>2</th>\n",
       "      <td>170</td>\n",
       "      <td>NaN</td>\n",
       "      <td>78.0</td>\n",
       "      <td>3079.038997</td>\n",
       "      <td>15.1</td>\n",
       "      <td>2018</td>\n",
       "      <td>Europe</td>\n",
       "      <td>Gasoline</td>\n",
       "      <td>Front-wheel drive</td>\n",
       "      <td>0.0</td>\n",
       "      <td>14.246341</td>\n",
       "    </tr>\n",
       "    <tr>\n",
       "      <th>3</th>\n",
       "      <td>220</td>\n",
       "      <td>4.0</td>\n",
       "      <td>NaN</td>\n",
       "      <td>2542.392402</td>\n",
       "      <td>20.2</td>\n",
       "      <td>2009</td>\n",
       "      <td>USA</td>\n",
       "      <td>Diesel</td>\n",
       "      <td>All-wheel drive</td>\n",
       "      <td>2.0</td>\n",
       "      <td>16.912736</td>\n",
       "    </tr>\n",
       "    <tr>\n",
       "      <th>4</th>\n",
       "      <td>210</td>\n",
       "      <td>1.0</td>\n",
       "      <td>140.0</td>\n",
       "      <td>3460.870990</td>\n",
       "      <td>14.4</td>\n",
       "      <td>2009</td>\n",
       "      <td>Europe</td>\n",
       "      <td>Gasoline</td>\n",
       "      <td>All-wheel drive</td>\n",
       "      <td>2.0</td>\n",
       "      <td>12.488369</td>\n",
       "    </tr>\n",
       "  </tbody>\n",
       "</table>\n",
       "</div>"
      ],
      "text/plain": [
       "   engine_displacement  num_cylinders  horsepower  vehicle_weight  \\\n",
       "0                  170            3.0       159.0     3413.433759   \n",
       "1                  130            5.0        97.0     3149.664934   \n",
       "2                  170            NaN        78.0     3079.038997   \n",
       "3                  220            4.0         NaN     2542.392402   \n",
       "4                  210            1.0       140.0     3460.870990   \n",
       "\n",
       "   acceleration  model_year  origin fuel_type         drivetrain  num_doors  \\\n",
       "0          17.7        2003  Europe  Gasoline    All-wheel drive        0.0   \n",
       "1          17.8        2007     USA  Gasoline  Front-wheel drive        0.0   \n",
       "2          15.1        2018  Europe  Gasoline  Front-wheel drive        0.0   \n",
       "3          20.2        2009     USA    Diesel    All-wheel drive        2.0   \n",
       "4          14.4        2009  Europe  Gasoline    All-wheel drive        2.0   \n",
       "\n",
       "   fuel_efficiency_mpg  \n",
       "0            13.231729  \n",
       "1            13.688217  \n",
       "2            14.246341  \n",
       "3            16.912736  \n",
       "4            12.488369  "
      ]
     },
     "execution_count": 1449,
     "metadata": {},
     "output_type": "execute_result"
    }
   ],
   "source": [
    "# Checking head to validate that data was read\n",
    "df.head()"
   ]
  },
  {
   "cell_type": "code",
   "execution_count": 1450,
   "id": "d3ece907-0e5e-4eb9-b3f0-02aba50df647",
   "metadata": {},
   "outputs": [
    {
     "data": {
      "text/plain": [
       "(9704, 11)"
      ]
     },
     "execution_count": 1450,
     "metadata": {},
     "output_type": "execute_result"
    }
   ],
   "source": [
    "# Checking the DF Size\n",
    "df.shape"
   ]
  },
  {
   "cell_type": "code",
   "execution_count": 1451,
   "id": "82c12dd4-8277-49a5-88ba-2b934e7114f2",
   "metadata": {},
   "outputs": [],
   "source": [
    "# DataSet Preparation\n",
    "df = df[['engine_displacement',\n",
    "'horsepower',\n",
    "'vehicle_weight',\n",
    "'model_year',\n",
    "'fuel_efficiency_mpg']]"
   ]
  },
  {
   "cell_type": "code",
   "execution_count": 1452,
   "id": "3e00aa50-fefc-496b-85c5-5f5335d2f0a7",
   "metadata": {},
   "outputs": [
    {
     "data": {
      "text/html": [
       "<div>\n",
       "<style scoped>\n",
       "    .dataframe tbody tr th:only-of-type {\n",
       "        vertical-align: middle;\n",
       "    }\n",
       "\n",
       "    .dataframe tbody tr th {\n",
       "        vertical-align: top;\n",
       "    }\n",
       "\n",
       "    .dataframe thead th {\n",
       "        text-align: right;\n",
       "    }\n",
       "</style>\n",
       "<table border=\"1\" class=\"dataframe\">\n",
       "  <thead>\n",
       "    <tr style=\"text-align: right;\">\n",
       "      <th></th>\n",
       "      <th>engine_displacement</th>\n",
       "      <th>horsepower</th>\n",
       "      <th>vehicle_weight</th>\n",
       "      <th>model_year</th>\n",
       "      <th>fuel_efficiency_mpg</th>\n",
       "    </tr>\n",
       "  </thead>\n",
       "  <tbody>\n",
       "    <tr>\n",
       "      <th>0</th>\n",
       "      <td>170</td>\n",
       "      <td>159.0</td>\n",
       "      <td>3413.433759</td>\n",
       "      <td>2003</td>\n",
       "      <td>13.231729</td>\n",
       "    </tr>\n",
       "    <tr>\n",
       "      <th>1</th>\n",
       "      <td>130</td>\n",
       "      <td>97.0</td>\n",
       "      <td>3149.664934</td>\n",
       "      <td>2007</td>\n",
       "      <td>13.688217</td>\n",
       "    </tr>\n",
       "    <tr>\n",
       "      <th>2</th>\n",
       "      <td>170</td>\n",
       "      <td>78.0</td>\n",
       "      <td>3079.038997</td>\n",
       "      <td>2018</td>\n",
       "      <td>14.246341</td>\n",
       "    </tr>\n",
       "    <tr>\n",
       "      <th>3</th>\n",
       "      <td>220</td>\n",
       "      <td>NaN</td>\n",
       "      <td>2542.392402</td>\n",
       "      <td>2009</td>\n",
       "      <td>16.912736</td>\n",
       "    </tr>\n",
       "    <tr>\n",
       "      <th>4</th>\n",
       "      <td>210</td>\n",
       "      <td>140.0</td>\n",
       "      <td>3460.870990</td>\n",
       "      <td>2009</td>\n",
       "      <td>12.488369</td>\n",
       "    </tr>\n",
       "  </tbody>\n",
       "</table>\n",
       "</div>"
      ],
      "text/plain": [
       "   engine_displacement  horsepower  vehicle_weight  model_year  \\\n",
       "0                  170       159.0     3413.433759        2003   \n",
       "1                  130        97.0     3149.664934        2007   \n",
       "2                  170        78.0     3079.038997        2018   \n",
       "3                  220         NaN     2542.392402        2009   \n",
       "4                  210       140.0     3460.870990        2009   \n",
       "\n",
       "   fuel_efficiency_mpg  \n",
       "0            13.231729  \n",
       "1            13.688217  \n",
       "2            14.246341  \n",
       "3            16.912736  \n",
       "4            12.488369  "
      ]
     },
     "execution_count": 1452,
     "metadata": {},
     "output_type": "execute_result"
    }
   ],
   "source": [
    "# Checking head to validate that only required columns are left\n",
    "df.head()"
   ]
  },
  {
   "cell_type": "code",
   "execution_count": 1453,
   "id": "af12d37f-45e1-4afe-bf97-9bc8299a9daa",
   "metadata": {},
   "outputs": [
    {
     "data": {
      "text/plain": [
       "engine_displacement      int64\n",
       "horsepower             float64\n",
       "vehicle_weight         float64\n",
       "model_year               int64\n",
       "fuel_efficiency_mpg    float64\n",
       "dtype: object"
      ]
     },
     "execution_count": 1453,
     "metadata": {},
     "output_type": "execute_result"
    }
   ],
   "source": [
    "# Checking the existing types\n",
    "df.dtypes"
   ]
  },
  {
   "cell_type": "code",
   "execution_count": 1454,
   "id": "33cdd714-fe0d-4dc1-ac18-4fe79ac1d3d8",
   "metadata": {},
   "outputs": [
    {
     "data": {
      "text/plain": [
       "Series([], dtype: object)"
      ]
     },
     "execution_count": 1454,
     "metadata": {},
     "output_type": "execute_result"
    }
   ],
   "source": [
    "# Verifying if data cleanup if needed\n",
    "df.dtypes[df.dtypes == object]"
   ]
  },
  {
   "cell_type": "code",
   "execution_count": 1455,
   "id": "9da53521-9f2d-417c-b20f-691e52d48125",
   "metadata": {},
   "outputs": [
    {
     "name": "stdout",
     "output_type": "stream",
     "text": [
      "engine_displacement\n",
      "0    170\n",
      "1    130\n",
      "2    170\n",
      "3    220\n",
      "4    210\n",
      "Name: engine_displacement, dtype: int64\n",
      "\n",
      "horsepower\n",
      "0    159.0\n",
      "1     97.0\n",
      "2     78.0\n",
      "3      NaN\n",
      "4    140.0\n",
      "Name: horsepower, dtype: float64\n",
      "\n",
      "vehicle_weight\n",
      "0    3413.433759\n",
      "1    3149.664934\n",
      "2    3079.038997\n",
      "3    2542.392402\n",
      "4    3460.870990\n",
      "Name: vehicle_weight, dtype: float64\n",
      "\n",
      "model_year\n",
      "0    2003\n",
      "1    2007\n",
      "2    2018\n",
      "3    2009\n",
      "4    2009\n",
      "Name: model_year, dtype: int64\n",
      "\n",
      "fuel_efficiency_mpg\n",
      "0    13.231729\n",
      "1    13.688217\n",
      "2    14.246341\n",
      "3    16.912736\n",
      "4    12.488369\n",
      "Name: fuel_efficiency_mpg, dtype: float64\n",
      "\n"
     ]
    }
   ],
   "source": [
    "#EDA - Overview of data\n",
    "for col in df.columns:\n",
    "    print(col)\n",
    "    print(df[col].head())\n",
    "    print()\n"
   ]
  },
  {
   "cell_type": "code",
   "execution_count": 1456,
   "id": "264bec70-98be-40a0-96cb-bce2c1991bb1",
   "metadata": {},
   "outputs": [
    {
     "name": "stdout",
     "output_type": "stream",
     "text": [
      "engine_displacement\n",
      "[170 130 220 210 190 240 150 250 230 320 200 160 180 260 120 280  40  80\n",
      " 110 380 270 140 290 340 310 100  90 330 300 350  70  60 370  50  10  30]\n",
      "number of unique values:  36\n",
      "\n",
      "horsepower\n",
      "[159.  97.  78.  nan 140. 127. 239. 174. 123. 100. 145. 193. 160. 179.\n",
      " 180. 132. 110. 126. 197. 133. 144. 156. 157. 206. 154. 153. 136. 168.\n",
      " 149. 143. 158. 176. 108. 125. 142. 139. 170. 135. 202.  99. 152. 148.\n",
      " 151. 155. 146. 199. 128. 103. 182. 141. 113. 109. 196. 111. 118. 222.\n",
      " 122. 194. 166. 101.  72. 232. 172. 165. 177. 190. 129. 184. 147. 137.\n",
      " 163. 162. 186. 104. 120. 200. 189. 167. 164. 191. 195.  96. 181.  71.\n",
      " 130. 150. 192. 217. 112. 220. 185.  83. 124. 161. 169.  98. 117. 134.\n",
      "  80.  92. 115. 121. 214.  94.  90. 210. 138. 198. 175. 183. 187. 173.\n",
      "  95. 131. 106. 204.  93. 114. 178. 207. 171. 188. 230.  87. 227. 119.\n",
      " 105. 102.  73. 208. 116.  79.  91. 209.  68. 237.  89.  82.  77. 213.\n",
      "  59. 216. 201.  66.  88.  53. 205. 223.  86.  43. 107. 203.  85. 215.\n",
      "  70.  75.  46.  69.  37. 211.  84.  76. 231.  63. 221. 226. 212. 229.\n",
      " 234. 218. 228. 219.  65. 246. 224.  81.  54.  74. 225. 233. 238.  55.\n",
      "  64. 244.  62. 240. 235. 271.  40.  57. 245. 252.  61.]\n",
      "number of unique values:  192\n",
      "\n",
      "vehicle_weight\n",
      "[3413.43375861 3149.66493422 3079.03899737 ... 2583.47131761 2905.52738998\n",
      " 2908.04347736]\n",
      "number of unique values:  9704\n",
      "\n",
      "model_year\n",
      "[2003 2007 2018 2009 2008 2012 2020 2016 2005 2014 2010 2000 2006 2013\n",
      " 2011 2004 2002 2022 2017 2001 2023 2019 2015 2021]\n",
      "number of unique values:  24\n",
      "\n",
      "fuel_efficiency_mpg\n",
      "[13.23172891 13.68821744 14.246341   ... 17.18658678 15.33155059\n",
      " 14.8844674 ]\n",
      "number of unique values:  9704\n",
      "\n"
     ]
    }
   ],
   "source": [
    "for col in df.columns:\n",
    "    print(col)\n",
    "    # print only the first 5 values\n",
    "    # print(df[col].unique()[:5])\n",
    "    print(df[col].unique())\n",
    "    print(\"number of unique values: \",df[col].nunique())\n",
    "    print()"
   ]
  },
  {
   "cell_type": "code",
   "execution_count": 1457,
   "id": "9b69bc25-97d7-49a2-a809-642f4ceda07a",
   "metadata": {},
   "outputs": [],
   "source": [
    "# EDA - Distribution of fuel_efficiency_mpg\n",
    "# 1. Importing libraries\n",
    "import matplotlib.pyplot as plt\n",
    "import seaborn as sns\n",
    "\n",
    "%matplotlib inline"
   ]
  },
  {
   "cell_type": "code",
   "execution_count": 1458,
   "id": "7ad3becb-a807-4319-99ed-0f470574dc16",
   "metadata": {},
   "outputs": [
    {
     "data": {
      "text/plain": [
       "<Axes: xlabel='fuel_efficiency_mpg', ylabel='Count'>"
      ]
     },
     "execution_count": 1458,
     "metadata": {},
     "output_type": "execute_result"
    },
    {
     "data": {
      "image/png": "[encoded data removed]",
      "text/plain": [
       "<Figure size 640x480 with 1 Axes>"
      ]
     },
     "metadata": {},
     "output_type": "display_data"
    }
   ],
   "source": [
    "#2. Plotting (Results look as a normal distribution)\n",
    "sns.histplot(df.fuel_efficiency_mpg, bins=50)"
   ]
  },
  {
   "cell_type": "code",
   "execution_count": 1459,
   "id": "2faf54b9-32be-4ae5-a33f-6d4410c6f487",
   "metadata": {},
   "outputs": [
    {
     "data": {
      "text/plain": [
       "engine_displacement      0\n",
       "horsepower             708\n",
       "vehicle_weight           0\n",
       "model_year               0\n",
       "fuel_efficiency_mpg      0\n",
       "dtype: int64"
      ]
     },
     "execution_count": 1459,
     "metadata": {},
     "output_type": "execute_result"
    }
   ],
   "source": [
    "# Homework Question 1 - with head we can see horsepower but validating all to practice\n",
    "df.isnull().sum()"
   ]
  },
  {
   "cell_type": "code",
   "execution_count": 1460,
   "id": "d62af285-66f6-48ef-8c79-8c2a770bd284",
   "metadata": {},
   "outputs": [
    {
     "data": {
      "text/plain": [
       "np.float64(149.0)"
      ]
     },
     "execution_count": 1460,
     "metadata": {},
     "output_type": "execute_result"
    }
   ],
   "source": [
    "# Homework Question 2 - what is the median for horsepower\n",
    "df['horsepower'].median()"
   ]
  },
  {
   "cell_type": "code",
   "execution_count": 1461,
   "id": "6eb4ede2-ef8d-44f6-b8e4-6bd00b3861fa",
   "metadata": {},
   "outputs": [
    {
     "data": {
      "text/plain": [
       "9704"
      ]
     },
     "execution_count": 1461,
     "metadata": {},
     "output_type": "execute_result"
    }
   ],
   "source": [
    "# Preparing and splitting the dataset\n",
    "# number of records in dataset:\n",
    "n = len(df)\n",
    "n"
   ]
  },
  {
   "cell_type": "code",
   "execution_count": 1462,
   "id": "a2a3163a-dd1a-4114-a48a-0e53b8f0d507",
   "metadata": {},
   "outputs": [],
   "source": [
    "# Shuffling dataset"
   ]
  },
  {
   "cell_type": "code",
   "execution_count": 1463,
   "id": "1f146fb5-d545-49b8-af3e-599feffd75d9",
   "metadata": {},
   "outputs": [
    {
     "data": {
      "text/plain": [
       "array([   0,    1,    2, ..., 9701, 9702, 9703], shape=(9704,))"
      ]
     },
     "execution_count": 1463,
     "metadata": {},
     "output_type": "execute_result"
    }
   ],
   "source": [
    "# 1.Creating array of Indexes\n",
    "idx = np.arange(n)\n",
    "idx\n"
   ]
  },
  {
   "cell_type": "code",
   "execution_count": 1464,
   "id": "53f55ded-b1be-4d8f-89e1-ba3046153783",
   "metadata": {},
   "outputs": [
    {
     "data": {
      "text/plain": [
       "array([9066, 3073, 2476, ..., 6782, 4444, 8574], shape=(9704,))"
      ]
     },
     "execution_count": 1464,
     "metadata": {},
     "output_type": "execute_result"
    }
   ],
   "source": [
    "# 2. Shuffle the indexes with 42 as seed\n",
    "np.random.seed(9)\n",
    "np.random.shuffle(idx)\n",
    "idx"
   ]
  },
  {
   "cell_type": "code",
   "execution_count": 1465,
   "id": "cf6f26f3-c9df-4a10-afee-fffadebda60b",
   "metadata": {},
   "outputs": [
    {
     "data": {
      "text/plain": [
       "(9704, 9704)"
      ]
     },
     "execution_count": 1465,
     "metadata": {},
     "output_type": "execute_result"
    }
   ],
   "source": [
    "# 3. Splitting - Calculating size of the training, validation and testing datasets\n",
    "n_validation_dataset = n_testing_dataset = int(n * 0.2)\n",
    "n_training_dataset = n - n_validation_dataset - n_testing_dataset\n",
    "n, n_training_dataset + n_validation_dataset + n_testing_dataset"
   ]
  },
  {
   "cell_type": "code",
   "execution_count": 1466,
   "id": "9a26243b-8c04-4850-a308-5cdc8b044d59",
   "metadata": {},
   "outputs": [
    {
     "data": {
      "text/plain": [
       "(5824, 1940, 1940)"
      ]
     },
     "execution_count": 1466,
     "metadata": {},
     "output_type": "execute_result"
    }
   ],
   "source": [
    "#4. Splitting - obtaining the dataset with shuffled index (idx) as based for retrieval\n",
    "df_train = df.iloc[idx[:n_training_dataset]]\n",
    "df_val = df.iloc[idx[n_training_dataset:n_training_dataset + n_validation_dataset]]\n",
    "df_test = df.iloc[idx[n_training_dataset + n_validation_dataset:]]\n",
    "len(df_train), len(df_val), len(df_test)"
   ]
  },
  {
   "cell_type": "code",
   "execution_count": 1467,
   "id": "a674851d-c11c-455b-8bd5-71bbf5147649",
   "metadata": {},
   "outputs": [],
   "source": [
    "#5. Resetting index\n",
    "df_train = df_train.reset_index(drop=True)\n",
    "df_val = df_val.reset_index(drop=True)\n",
    "df_test = df_test.reset_index(drop=True)"
   ]
  },
  {
   "cell_type": "code",
   "execution_count": 1468,
   "id": "42b5eb45-b86d-4184-81f1-caae2a8ca544",
   "metadata": {},
   "outputs": [],
   "source": [
    "#6. Defining y\n",
    "y_train = df_train.fuel_efficiency_mpg.values\n",
    "y_val = df_val.fuel_efficiency_mpg.values\n",
    "y_test = df_test.fuel_efficiency_mpg.values"
   ]
  },
  {
   "cell_type": "code",
   "execution_count": 1469,
   "id": "49c6eeee-1e3b-45f0-a6d1-c97d662c22a0",
   "metadata": {},
   "outputs": [],
   "source": [
    "#7. Deleting the fuel_efficiency_mpg from the dataset to avoid using them for training purposes\n",
    "del df_train['fuel_efficiency_mpg']\n",
    "del df_val['fuel_efficiency_mpg']\n",
    "del df_test['fuel_efficiency_mpg']"
   ]
  },
  {
   "cell_type": "code",
   "execution_count": 1470,
   "id": "c5369361-f695-4e4a-9d59-faceb740716d",
   "metadata": {},
   "outputs": [
    {
     "data": {
      "text/plain": [
       "5824"
      ]
     },
     "execution_count": 1470,
     "metadata": {},
     "output_type": "execute_result"
    }
   ],
   "source": [
    "len(y_train)"
   ]
  },
  {
   "cell_type": "code",
   "execution_count": 1471,
   "id": "347519b1-d8c0-4eee-8fdd-f3aa1e0e6b19",
   "metadata": {},
   "outputs": [],
   "source": [
    "# Homework Question 3"
   ]
  },
  {
   "cell_type": "code",
   "execution_count": 1472,
   "id": "c4f1cc40-ef38-46fb-8dc5-a56fce372ed4",
   "metadata": {},
   "outputs": [],
   "source": [
    "# 1. Define the train_linear_regression formula\n",
    "def train_linear_regression(X, y):\n",
    "    ones = np.ones(X.shape[0])\n",
    "    X = np.column_stack([ones, X])\n",
    "\n",
    "    XTX = X.T.dot(X)\n",
    "    XTX_inv = np.linalg.inv(XTX)\n",
    "    w_full = XTX_inv.dot(X.T).dot(y)\n",
    "    \n",
    "    return w_full[0], w_full[1:]"
   ]
  },
  {
   "cell_type": "code",
   "execution_count": 1473,
   "id": "261970f0-b2ee-470b-bdac-72c1357f37c0",
   "metadata": {},
   "outputs": [],
   "source": [
    "#2. Determine columns for our model and populate NA values with 0 or Training Dataset Mean\n",
    "base = ['engine_displacement', 'horsepower', 'vehicle_weight','model_year']\n",
    "X_train = df_train[base].fillna(0).values\n",
    "w0, w = train_linear_regression(X_train, y_train)\n",
    "y_pred = w0 + X_train.dot(w)"
   ]
  },
  {
   "cell_type": "code",
   "execution_count": 1474,
   "id": "aaf00ad0-6d3f-4c3c-975c-db662dd5f965",
   "metadata": {},
   "outputs": [
    {
     "data": {
      "text/plain": [
       "(np.float64(27.513852581224892),\n",
       " array([-7.49245681e-05,  3.51310422e-03, -5.02056083e-03,  1.02939922e-03]),\n",
       " array([ 9.70278433, 14.02621843, 15.12894597, ..., 11.21621524,\n",
       "        16.68266515, 18.18930683], shape=(5824,)))"
      ]
     },
     "execution_count": 1474,
     "metadata": {},
     "output_type": "execute_result"
    }
   ],
   "source": [
    "w0, w, y_pred"
   ]
  },
  {
   "cell_type": "code",
   "execution_count": 1475,
   "id": "19b5481f-9a70-4fb5-91a6-3542ca665fc9",
   "metadata": {},
   "outputs": [
    {
     "data": {
      "text/plain": [
       "<Axes: ylabel='Count'>"
      ]
     },
     "execution_count": 1475,
     "metadata": {},
     "output_type": "execute_result"
    },
    {
     "data": {
      "image/png": "[encoded data removed]",
      "text/plain": [
       "<Figure size 640x480 with 1 Axes>"
      ]
     },
     "metadata": {},
     "output_type": "display_data"
    }
   ],
   "source": [
    "#3. Plotting\n",
    "sns.histplot(y_pred, color='red', alpha=0.5, bins=50)\n",
    "sns.histplot(y_train, color='blue', alpha=0.5, bins=50)"
   ]
  },
  {
   "cell_type": "code",
   "execution_count": 1476,
   "id": "c562895a-ff8a-410d-8b6f-50ad86d4c9a7",
   "metadata": {},
   "outputs": [],
   "source": [
    "# 4. Defining the RMSE Function\n",
    "def rmse(y, y_pred):\n",
    "    se = (y - y_pred) ** 2\n",
    "    mse = se.mean()\n",
    "    return np.sqrt(mse)"
   ]
  },
  {
   "cell_type": "code",
   "execution_count": 1477,
   "id": "e14a862b-15ff-4b8a-af49-f0ee7b40bf06",
   "metadata": {},
   "outputs": [
    {
     "data": {
      "text/plain": [
       "np.float64(0.522)"
      ]
     },
     "execution_count": 1477,
     "metadata": {},
     "output_type": "execute_result"
    }
   ],
   "source": [
    "rmseYTrainYPred =  np.round(rmse(y_train, y_pred), decimals=3)\n",
    "rmseYTrainYPred"
   ]
  },
  {
   "cell_type": "code",
   "execution_count": 1478,
   "id": "2d1e68bf-64a1-4315-bc8c-c154ce167b06",
   "metadata": {},
   "outputs": [],
   "source": [
    "# 5. Define generic function to define X\n",
    "def prepare_X(df, fillna):\n",
    "    df_num = df[base]\n",
    "    df_num = df_num.fillna(fillna)\n",
    "    X = df_num.values\n",
    "    return X\n"
   ]
  },
  {
   "cell_type": "code",
   "execution_count": 1479,
   "id": "8519a9e7-80a4-481b-b27d-6db7cd2b7c23",
   "metadata": {},
   "outputs": [
    {
     "data": {
      "text/plain": [
       "np.float64(0.5131865908224594)"
      ]
     },
     "execution_count": 1479,
     "metadata": {},
     "output_type": "execute_result"
    }
   ],
   "source": [
    "#6.  Validating rmse\n",
    "X_train = prepare_X(df_train, 0)\n",
    "w0, w = train_linear_regression(X_train, y_train)\n",
    "\n",
    "X_val = prepare_X(df_val, 0)\n",
    "y_pred = w0 + X_val.dot(w)\n",
    "rmse(y_val, y_pred)"
   ]
  },
  {
   "cell_type": "code",
   "execution_count": 1480,
   "id": "3d687a83-ebdb-40bb-8ed7-b5e6e06e6035",
   "metadata": {},
   "outputs": [
    {
     "data": {
      "text/plain": [
       "np.float64(0.007)"
      ]
     },
     "execution_count": 1480,
     "metadata": {},
     "output_type": "execute_result"
    }
   ],
   "source": [
    "#7. Calculating standard deviation for seeds 0, 1, 2, 3, 4, 5, 6, 7, 8, 9\n",
    "\n",
    "valueList = [0.5206531296294218, 0.521338891285577,0.5228069974803171, 0.515951674119676, 0.5109129460053851, 0.52834064601107, 0.5313910658146311, 0.5090670387381733, 0.5147399129511132, 0.5131865908224594  ]\n",
    "np.round(np.std(valueList), 3)"
   ]
  },
  {
   "cell_type": "code",
   "execution_count": null,
   "id": "0bc5a578-75ef-47ee-98f5-7d9cce034a44",
   "metadata": {},
   "outputs": [],
   "source": []
  }
 ],
 "metadata": {
  "kernelspec": {
   "display_name": "Python 3 (ipykernel)",
   "language": "python",
   "name": "python3"
  },
  "language_info": {
   "codemirror_mode": {
    "name": "ipython",
    "version": 3
   },
   "file_extension": ".py",
   "mimetype": "text/x-python",
   "name": "python",
   "nbconvert_exporter": "python",
   "pygments_lexer": "ipython3",
   "version": "3.12.1"
  }
 },
 "nbformat": 4,
 "nbformat_minor": 5
}
