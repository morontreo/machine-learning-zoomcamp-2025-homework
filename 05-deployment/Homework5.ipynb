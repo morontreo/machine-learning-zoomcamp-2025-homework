{
 "cells": [
  {
   "cell_type": "code",
   "execution_count": 1,
   "id": "63a886cd-9df2-4ec1-8b11-9d065da4b5fe",
   "metadata": {},
   "outputs": [
    {
     "name": "stdout",
     "output_type": "stream",
     "text": [
      "Requirement already satisfied: uv in /usr/local/python/3.12.1/lib/python3.12/site-packages (0.9.5)\n",
      "Note: you may need to restart the kernel to use updated packages.\n"
     ]
    }
   ],
   "source": [
    "pip install uv"
   ]
  },
  {
   "cell_type": "code",
   "execution_count": 6,
   "id": "fd3a10a0-7810-4cb6-9481-0be6f798e867",
   "metadata": {},
   "outputs": [
    {
     "name": "stdout",
     "output_type": "stream",
     "text": [
      "uv 0.9.5\n",
      "Note: you may need to restart the kernel to use updated packages.\n"
     ]
    }
   ],
   "source": [
    "uv --version"
   ]
  },
  {
   "cell_type": "code",
   "execution_count": 7,
   "id": "6d5a7ab4-cf05-468a-a100-3e7e7971b7ed",
   "metadata": {},
   "outputs": [
    {
     "name": "stdout",
     "output_type": "stream",
     "text": [
      "0.5336072702798061\n",
      "Note: you may need to restart the kernel to use updated packages.\n"
     ]
    }
   ],
   "source": [
    "uv run python predict.py"
   ]
  },
  {
   "cell_type": "code",
   "execution_count": null,
   "id": "ca7878a6-1014-415b-8263-2997d151639a",
   "metadata": {},
   "outputs": [],
   "source": []
  }
 ],
 "metadata": {
  "kernelspec": {
   "display_name": "Python 3 (ipykernel)",
   "language": "python",
   "name": "python3"
  },
  "language_info": {
   "codemirror_mode": {
    "name": "ipython",
    "version": 3
   },
   "file_extension": ".py",
   "mimetype": "text/x-python",
   "name": "python",
   "nbconvert_exporter": "python",
   "pygments_lexer": "ipython3",
   "version": "3.12.1"
  }
 },
 "nbformat": 4,
 "nbformat_minor": 5
}
